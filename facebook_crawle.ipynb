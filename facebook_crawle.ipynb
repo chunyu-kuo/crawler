{
 "cells": [
  {
   "cell_type": "code",
   "execution_count": null,
   "id": "7f1b0633",
   "metadata": {},
   "outputs": [],
   "source": [
    "import facebook_crawle\n",
    "Email = '' \n",
    "Password = ''\n",
    "groupurl = ''        \n",
    "post_number = \n",
    "facebook_crawle.crawler_private_group(Email, Password, groupurl,post_number)"
   ]
  }
 ],
 "metadata": {
  "kernelspec": {
   "display_name": "Python 3",
   "language": "python",
   "name": "python3"
  },
  "language_info": {
   "codemirror_mode": {
    "name": "ipython",
    "version": 3
   },
   "file_extension": ".py",
   "mimetype": "text/x-python",
   "name": "python",
   "nbconvert_exporter": "python",
   "pygments_lexer": "ipython3",
   "version": "3.8.10"
  }
 },
 "nbformat": 4,
 "nbformat_minor": 5
}
